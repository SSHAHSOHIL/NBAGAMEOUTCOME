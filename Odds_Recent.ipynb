{
 "cells": [
  {
   "cell_type": "code",
   "execution_count": 5,
   "id": "47c4c739-68e8-4235-b44c-3d3e8dc7e855",
   "metadata": {
    "collapsed": true,
    "jupyter": {
     "outputs_hidden": true
    },
    "scrolled": true
   },
   "outputs": [
    {
     "name": "stdout",
     "output_type": "stream",
     "text": [
      "Requirement already satisfied: beautifulsoup4 in /opt/anaconda3/lib/python3.12/site-packages (4.12.3)\n",
      "Requirement already satisfied: soupsieve>1.2 in /opt/anaconda3/lib/python3.12/site-packages (from beautifulsoup4) (2.5)\n",
      "Requirement already satisfied: html5lib in /opt/anaconda3/lib/python3.12/site-packages (1.1)\n",
      "Requirement already satisfied: six>=1.9 in /opt/anaconda3/lib/python3.12/site-packages (from html5lib) (1.16.0)\n",
      "Requirement already satisfied: webencodings in /opt/anaconda3/lib/python3.12/site-packages (from html5lib) (0.5.1)\n"
     ]
    }
   ],
   "source": [
    "!pip install --upgrade beautifulsoup4\n",
    "!pip install --upgrade html5lib"
   ]
  },
  {
   "cell_type": "code",
   "execution_count": 2,
   "id": "c9b75462-1a23-4658-998b-e930870592ed",
   "metadata": {
    "collapsed": true,
    "jupyter": {
     "outputs_hidden": true
    },
    "scrolled": true
   },
   "outputs": [
    {
     "name": "stdout",
     "output_type": "stream",
     "text": [
      "Requirement already satisfied: requests in /opt/anaconda3/lib/python3.12/site-packages (2.32.2)\n",
      "Requirement already satisfied: charset-normalizer<4,>=2 in /opt/anaconda3/lib/python3.12/site-packages (from requests) (2.0.4)\n",
      "Requirement already satisfied: idna<4,>=2.5 in /opt/anaconda3/lib/python3.12/site-packages (from requests) (3.7)\n",
      "Requirement already satisfied: urllib3<3,>=1.21.1 in /opt/anaconda3/lib/python3.12/site-packages (from requests) (2.2.2)\n",
      "Requirement already satisfied: certifi>=2017.4.17 in /opt/anaconda3/lib/python3.12/site-packages (from requests) (2024.7.4)\n",
      "Requirement already satisfied: selenium in /opt/anaconda3/lib/python3.12/site-packages (4.23.1)\n",
      "Requirement already satisfied: urllib3<3,>=1.26 in /opt/anaconda3/lib/python3.12/site-packages (from urllib3[socks]<3,>=1.26->selenium) (2.2.2)\n",
      "Requirement already satisfied: trio~=0.17 in /opt/anaconda3/lib/python3.12/site-packages (from selenium) (0.26.0)\n",
      "Requirement already satisfied: trio-websocket~=0.9 in /opt/anaconda3/lib/python3.12/site-packages (from selenium) (0.11.1)\n",
      "Requirement already satisfied: certifi>=2021.10.8 in /opt/anaconda3/lib/python3.12/site-packages (from selenium) (2024.7.4)\n",
      "Requirement already satisfied: typing_extensions~=4.9 in /opt/anaconda3/lib/python3.12/site-packages (from selenium) (4.9.0)\n",
      "Requirement already satisfied: websocket-client~=1.8 in /opt/anaconda3/lib/python3.12/site-packages (from selenium) (1.8.0)\n",
      "Requirement already satisfied: attrs>=23.2.0 in /opt/anaconda3/lib/python3.12/site-packages (from trio~=0.17->selenium) (24.1.0)\n",
      "Requirement already satisfied: sortedcontainers in /opt/anaconda3/lib/python3.12/site-packages (from trio~=0.17->selenium) (2.4.0)\n",
      "Requirement already satisfied: idna in /opt/anaconda3/lib/python3.12/site-packages (from trio~=0.17->selenium) (3.7)\n",
      "Requirement already satisfied: outcome in /opt/anaconda3/lib/python3.12/site-packages (from trio~=0.17->selenium) (1.3.0.post0)\n",
      "Requirement already satisfied: sniffio>=1.3.0 in /opt/anaconda3/lib/python3.12/site-packages (from trio~=0.17->selenium) (1.3.0)\n",
      "Requirement already satisfied: wsproto>=0.14 in /opt/anaconda3/lib/python3.12/site-packages (from trio-websocket~=0.9->selenium) (1.2.0)\n",
      "Requirement already satisfied: pysocks!=1.5.7,<2.0,>=1.5.6 in /opt/anaconda3/lib/python3.12/site-packages (from urllib3[socks]<3,>=1.26->selenium) (1.7.1)\n",
      "Requirement already satisfied: h11<1,>=0.9.0 in /opt/anaconda3/lib/python3.12/site-packages (from wsproto>=0.14->trio-websocket~=0.9->selenium) (0.14.0)\n",
      "Requirement already satisfied: beautifulsoup4 in /opt/anaconda3/lib/python3.12/site-packages (4.12.3)\n",
      "Requirement already satisfied: soupsieve>1.2 in /opt/anaconda3/lib/python3.12/site-packages (from beautifulsoup4) (2.5)\n",
      "Requirement already satisfied: html5lib in /opt/anaconda3/lib/python3.12/site-packages (1.1)\n",
      "Requirement already satisfied: six>=1.9 in /opt/anaconda3/lib/python3.12/site-packages (from html5lib) (1.16.0)\n",
      "Requirement already satisfied: webencodings in /opt/anaconda3/lib/python3.12/site-packages (from html5lib) (0.5.1)\n",
      "Requirement already satisfied: lxml in /opt/anaconda3/lib/python3.12/site-packages (5.2.2)\n"
     ]
    }
   ],
   "source": [
    "!pip install requests\n",
    "!pip install selenium\n",
    "!pip install beautifulsoup4\n",
    "!pip install html5lib\n",
    "!pip install lxml"
   ]
  },
  {
   "cell_type": "code",
   "execution_count": 4,
   "id": "106d8b49-670c-4fa0-b003-70b850b706e7",
   "metadata": {},
   "outputs": [],
   "source": [
    "teams_url = \"https://www.oddsportal.com/basketball/usa/nba-2022-2023/results/#/page/1/\"\n",
    "path = \"//a[normalize-space()='Next']\""
   ]
  },
  {
   "cell_type": "code",
   "execution_count": 6,
   "id": "e2118f9f-1fe9-45f4-bb82-12708bf0d305",
   "metadata": {},
   "outputs": [],
   "source": [
    "script = \"\"\"\n",
    "        els = document.getElementsByClassName('flex items-center justify-start');\n",
    "        for (var i = els.length - 1; i >= 0; i--) {el = els[i].nextSibling;\n",
    "        \tif(el && el.parentElement) {el.parentElement.removeChild(el);\n",
    "        \t\tels[i].parentElement.removeChild(els[i]);\t\n",
    "        \t}\n",
    "        }\n",
    "    \"\"\" "
   ]
  },
  {
   "cell_type": "code",
   "execution_count": 8,
   "id": "2d9520c0-4f5c-4a1d-9e61-ba90443a7f74",
   "metadata": {},
   "outputs": [],
   "source": [
    "from selenium import webdriver\n",
    "from bs4 import BeautifulSoup\n",
    "from io import StringIO\n",
    "import pandas as pd\n",
    "import time\n",
    "import requests\n",
    "from selenium.webdriver.support.ui import WebDriverWait\n",
    "from selenium.webdriver.common.by import By\n",
    "from selenium.webdriver.support import expected_conditions as EC\n",
    "from selenium.webdriver.support.select import Select\n",
    "from selenium.common.exceptions import NoSuchElementException, StaleElementReferenceException, NoSuchWindowException, TimeoutException\n",
    "from time import sleep\n",
    "from selenium.webdriver.common.keys import Keys\n",
    "from selenium.webdriver.chrome.options import Options"
   ]
  },
  {
   "cell_type": "code",
   "execution_count": 10,
   "id": "a8af13cc-db9e-4752-943f-ee59ff33e7a5",
   "metadata": {
    "scrolled": true
   },
   "outputs": [],
   "source": [
    "driver = webdriver.Chrome()\n",
    "driver.get(teams_url)\n",
    "count = 0\n",
    "dfs = []\n",
    "driver.execute_script(\"window.scrollTo(0, document.body.scrollHeight);\")\n",
    "\n",
    "while True:\n",
    "    try:\n",
    "        \n",
    "        sleep(5)\n",
    "\n",
    "        count += 1\n",
    "        html = driver.page_source        \n",
    "        \n",
    "        with open(f\"odds_w/page_{count}.html\",\"w+\") as f:\n",
    "            f.write(html)        \n",
    "\n",
    "        sleep(5)\n",
    "        \n",
    "        driver.execute_script(script)\n",
    "        sleep(5)\n",
    "        \n",
    "        with open(f\"odds/page_{count}.html\",\"w+\") as f:\n",
    "            f.write(html)\n",
    "        \n",
    "        button = WebDriverWait(driver, 20).until(EC.presence_of_element_located((By.XPATH, path)))\n",
    "        driver.execute_script(\"arguments[0].click();\", button)\n",
    "        \n",
    "    except (TimeoutException, NoSuchWindowException):\n",
    "        break\n",
    "\n",
    "driver.quit()"
   ]
  },
  {
   "cell_type": "code",
   "execution_count": 16,
   "id": "7f323eaa-9311-4500-9ece-2b9c29b2d665",
   "metadata": {},
   "outputs": [],
   "source": [
    "team_path = \"eventRow flex w-full flex-col text-xs\"\n",
    "date_path = \"text-black-main font-main w-full truncate text-xs font-normal leading-5\""
   ]
  },
  {
   "cell_type": "code",
   "execution_count": 64,
   "id": "477e0bc1-acd2-41ed-997d-d1c7f7849e7c",
   "metadata": {},
   "outputs": [],
   "source": [
    "import pandas as pd\n",
    "from bs4 import BeautifulSoup\n",
    "\n",
    "def create_dataframe_from_html(count):\n",
    "  data_list = []\n",
    "  with open(\"odds/page_{}.html\".format(count)) as f:\n",
    "    page = f.read()\n",
    "\n",
    "  soup = BeautifulSoup(page, \"html.parser\")\n",
    "  rows = len(soup.find_all(\"div\", class_= team_path))\n",
    "\n",
    "  for num in range(rows):\n",
    "\n",
    "    if num == 0:\n",
    "        data_list.append(read_first(\"odds_w/page_{}.html\".format(count)))\n",
    "        date = soup.find_all(\"div\", class_= team_path)[0].find(\"div\", class_= date_path).text\n",
    "        data_list[num][0] = date\n",
    "        continue\n",
    "    \n",
    "    teams = soup.find_all(\"div\", class_= team_path)[num]\n",
    "\n",
    "    if (teams.find(\"div\", class_= date_path) == None):\n",
    "        date = date\n",
    "    else:\n",
    "        date = teams.find(\"div\", class_= date_path).text\n",
    "    home = teams.find_all(\"p\")[1].text.strip()\n",
    "    away = teams.find_all(\"p\")[2].text.strip()\n",
    "    home_odds = teams.find_all(\"p\")[3].text.strip()\n",
    "    away_odds = teams.find_all(\"p\")[4].text.strip()\n",
    "    \n",
    "    if home == \"OT\":\n",
    "        home = teams.find_all(\"p\")[2].text.strip()\n",
    "        away = teams.find_all(\"p\")[3].text.strip()\n",
    "        home_odds = teams.find_all(\"p\")[5].text.strip()\n",
    "        away_odds = teams.find_all(\"p\")[6].text.strip()\n",
    "\n",
    "    data_list.append([date, home, away, home_odds, away_odds])\n",
    "    num += 1\n",
    "\n",
    "  df = pd.DataFrame(data_list, columns=['date', 'home', 'away', 'home_odds', 'away_odds'])\n",
    "  return df"
   ]
  },
  {
   "cell_type": "code",
   "execution_count": 66,
   "id": "26669790-1854-44fa-8420-6c73181e1fcc",
   "metadata": {},
   "outputs": [],
   "source": [
    "def read_first(filename2):\n",
    "    with open(filename2) as f:\n",
    "        page1 = f.read()\n",
    "    soup1 = BeautifulSoup(page1, \"html.parser\")\n",
    "    teams1 = soup1.find_all(\"div\", class_= team_path)[0]\n",
    "    home = teams1.find_all(\"p\")[2].text.strip()\n",
    "    away = teams1.find_all(\"p\")[3].text.strip()\n",
    "    home_odds = teams1.find_all(\"p\")[4].text.strip()\n",
    "    away_odds = teams1.find_all(\"p\")[5].text.strip()\n",
    "    return([\"\", home, away, home_odds, away_odds])"
   ]
  },
  {
   "cell_type": "code",
   "execution_count": 68,
   "id": "8c3aa67b-bfab-4bb6-9b86-f38e422211cf",
   "metadata": {
    "scrolled": true
   },
   "outputs": [],
   "source": [
    "df = create_dataframe_from_html(3)"
   ]
  },
  {
   "cell_type": "code",
   "execution_count": 90,
   "id": "b30b4ce7-e28c-47da-a115-691e32022bac",
   "metadata": {},
   "outputs": [],
   "source": [
    "import os\n",
    "directory = 'odds'\n",
    "s = len(os.listdir(directory))\n",
    "s -= 1\n",
    "for b in range(s):\n",
    "    dfs.append(create_dataframe_from_html(b+1))"
   ]
  },
  {
   "cell_type": "code",
   "execution_count": 101,
   "id": "a2fb70df-230b-4f3a-ab58-917a76fdc172",
   "metadata": {},
   "outputs": [],
   "source": [
    "final_data = pd.concat(dfs)\n",
    "final_data.to_csv(\"ml_odds.csv\")"
   ]
  }
 ],
 "metadata": {
  "kernelspec": {
   "display_name": "anaconda-panel-2023.05-py310",
   "language": "python",
   "name": "conda-env-anaconda-panel-2023.05-py310-py"
  },
  "language_info": {
   "codemirror_mode": {
    "name": "ipython",
    "version": 3
   },
   "file_extension": ".py",
   "mimetype": "text/x-python",
   "name": "python",
   "nbconvert_exporter": "python",
   "pygments_lexer": "ipython3",
   "version": "3.11.5"
  }
 },
 "nbformat": 4,
 "nbformat_minor": 5
}
